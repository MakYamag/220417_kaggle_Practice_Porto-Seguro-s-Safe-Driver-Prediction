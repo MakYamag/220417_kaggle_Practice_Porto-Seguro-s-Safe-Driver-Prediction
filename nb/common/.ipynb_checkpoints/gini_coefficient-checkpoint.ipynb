{
 "cells": [
  {
   "cell_type": "markdown",
   "id": "b788f980",
   "metadata": {},
   "source": [
    "# Overview\n",
    "- gini係数および標準化gini係数を定義。\n",
    "- 参考：https://www.kaggle.com/code/batzner/gini-coefficient-an-intuitive-explanation/notebook"
   ]
  },
  {
   "cell_type": "code",
   "execution_count": 5,
   "id": "6f33a755",
   "metadata": {},
   "outputs": [],
   "source": [
    "import numpy as np"
   ]
  },
  {
   "cell_type": "code",
   "execution_count": 6,
   "id": "7bb0ef6f",
   "metadata": {},
   "outputs": [],
   "source": [
    "# gini_coef(target, pred)：gini係数\n",
    "# ----------------------------------\n",
    "#   target：正解（0 or 1）\n",
    "#   pred：targetが1となる予測確率\n",
    "# ==================================\n",
    "\n",
    "def gini_coef(target, pred):\n",
    "    \n",
    "    # targetとpredの長さが同じでないとエラーになる\n",
    "    assert (len(target) == len(pred))\n",
    "    \n",
    "    # 左から[target, pred, 通し番号]となるように結合\n",
    "    all = np.asarray(np.c_[target, pred, np.arange(len(target))], dtype=np.float)\n",
    "    \n",
    "    # predが大きい順、通し番号の小さい順の優先順位でソート\n",
    "    all = all[np.lexsort((all[:, 2], -1 * all[:, 1]))]\n",
    "    \n",
    "    totalLosses = all[:, 0].sum()\n",
    "    giniSum = all[:, 0].cumsum().sum() / totalLosses\n",
    "    giniSum -= (len(target) + 1) / 2.\n",
    "    \n",
    "    return giniSum / len(target)\n",
    "\n",
    "\n",
    "\n",
    "# gini_norm(target, pred)：標準化gini係数\n",
    "# ----------------------------------\n",
    "#   target：正解（0 or 1）\n",
    "#   pred：targetが1となる予測確率\n",
    "# ==================================\n",
    "\n",
    "def gini_norm(target, pred):\n",
    "    \n",
    "    return gini_coef(target, pred) / gini_coef(target, target)\n"
   ]
  },
  {
   "cell_type": "code",
   "execution_count": 8,
   "id": "3ecf4e90",
   "metadata": {},
   "outputs": [],
   "source": [
    "# gini_xgb(pred, xgb_data)：XGBoost評価用gini係数\n",
    "# ------------------------------------------------\n",
    "#   pred：予測確率\n",
    "#   xgb_data：XGBoost用に加工されたデータ\n",
    "# ==============================================\n",
    "\n",
    "def gini_xgb(pred, xgb_data):\n",
    "    target = xgb_data.get_label().astype(int)\n",
    "    gini_score = gini_norm(target, pred)\n",
    "    \n",
    "    return 'gini_xgb', gini_score"
   ]
  }
 ],
 "metadata": {
  "kernelspec": {
   "display_name": "Python 3 (ipykernel)",
   "language": "python",
   "name": "python3"
  },
  "language_info": {
   "codemirror_mode": {
    "name": "ipython",
    "version": 3
   },
   "file_extension": ".py",
   "mimetype": "text/x-python",
   "name": "python",
   "nbconvert_exporter": "python",
   "pygments_lexer": "ipython3",
   "version": "3.9.7"
  }
 },
 "nbformat": 4,
 "nbformat_minor": 5
}
